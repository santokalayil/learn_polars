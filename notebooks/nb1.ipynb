{
 "cells": [
  {
   "cell_type": "code",
   "execution_count": 40,
   "metadata": {},
   "outputs": [],
   "source": [
    "from notebooks.prep import DATA_DIR\n",
    "import pandas as pd\n",
    "import polars as pl\n",
    "import datetime"
   ]
  },
  {
   "cell_type": "code",
   "execution_count": 31,
   "metadata": {},
   "outputs": [
    {
     "data": {
      "text/plain": [
       "[PosixPath('/Users/santokalayil/Developer/projects/generative_ai/learn_polars/data/parquet_files/data_4.parquet'),\n",
       " PosixPath('/Users/santokalayil/Developer/projects/generative_ai/learn_polars/data/parquet_files/data_5.parquet'),\n",
       " PosixPath('/Users/santokalayil/Developer/projects/generative_ai/learn_polars/data/parquet_files/data_7.parquet'),\n",
       " PosixPath('/Users/santokalayil/Developer/projects/generative_ai/learn_polars/data/parquet_files/data_6.parquet'),\n",
       " PosixPath('/Users/santokalayil/Developer/projects/generative_ai/learn_polars/data/parquet_files/data_3.parquet'),\n",
       " PosixPath('/Users/santokalayil/Developer/projects/generative_ai/learn_polars/data/parquet_files/data_2.parquet'),\n",
       " PosixPath('/Users/santokalayil/Developer/projects/generative_ai/learn_polars/data/parquet_files/data_9.parquet'),\n",
       " PosixPath('/Users/santokalayil/Developer/projects/generative_ai/learn_polars/data/parquet_files/data_0.parquet'),\n",
       " PosixPath('/Users/santokalayil/Developer/projects/generative_ai/learn_polars/data/parquet_files/data_1.parquet'),\n",
       " PosixPath('/Users/santokalayil/Developer/projects/generative_ai/learn_polars/data/parquet_files/data_8.parquet')]"
      ]
     },
     "execution_count": 31,
     "metadata": {},
     "output_type": "execute_result"
    }
   ],
   "source": [
    "parquet_files = [i for i in DATA_DIR.rglob(pattern=\"*.parquet\")]\n",
    "parquet_files"
   ]
  },
  {
   "cell_type": "code",
   "execution_count": 32,
   "metadata": {},
   "outputs": [
    {
     "name": "stdout",
     "output_type": "stream",
     "text": [
      "10,000,000 rows of data\n"
     ]
    },
    {
     "data": {
      "text/plain": [
       "name_column\n",
       "Alice      49.482394\n",
       "Bob        49.505852\n",
       "Emma       49.487737\n",
       "John       49.474299\n",
       "Michael    49.492151\n",
       "Name: integer_column, dtype: float64"
      ]
     },
     "execution_count": 32,
     "metadata": {},
     "output_type": "execute_result"
    }
   ],
   "source": [
    "df = pd.concat([pd.read_parquet(i) for i in parquet_files], ignore_index=True)\n",
    "length, _ = df.shape\n",
    "print(f\"{length:,} rows of data\")\n",
    "df.head()\n",
    "df.groupby(\"name_column\")[\"integer_column\"].mean()"
   ]
  },
  {
   "cell_type": "code",
   "execution_count": 39,
   "metadata": {},
   "outputs": [
    {
     "data": {
      "text/plain": [
       "[Datetime(time_unit='ns', time_zone=None),\n",
       " String,\n",
       " Int64,\n",
       " Float64,\n",
       " Boolean,\n",
       " Categorical(ordering='physical')]"
      ]
     },
     "execution_count": 39,
     "metadata": {},
     "output_type": "execute_result"
    }
   ],
   "source": [
    "df.dtypes"
   ]
  },
  {
   "cell_type": "code",
   "execution_count": 34,
   "metadata": {},
   "outputs": [
    {
     "data": {
      "text/plain": [
       "Index                   132\n",
       "date_column        80000000\n",
       "name_column        80000000\n",
       "integer_column     80000000\n",
       "float_column       80000000\n",
       "bool_column        10000000\n",
       "category_column    10000204\n",
       "dtype: int64"
      ]
     },
     "execution_count": 34,
     "metadata": {},
     "output_type": "execute_result"
    }
   ],
   "source": [
    "df.memory_usage()"
   ]
  },
  {
   "cell_type": "code",
   "execution_count": 35,
   "metadata": {},
   "outputs": [],
   "source": [
    "del df"
   ]
  },
  {
   "cell_type": "code",
   "execution_count": 48,
   "metadata": {},
   "outputs": [],
   "source": [
    "df = pl.scan_parquet(DATA_DIR.rglob(pattern=\"*.parquet\")).collect()"
   ]
  },
  {
   "cell_type": "code",
   "execution_count": 49,
   "metadata": {},
   "outputs": [
    {
     "data": {
      "text/html": [
       "<div><style>\n",
       ".dataframe > thead > tr,\n",
       ".dataframe > tbody > tr {\n",
       "  text-align: right;\n",
       "  white-space: pre-wrap;\n",
       "}\n",
       "</style>\n",
       "<small>shape: (5, 6)</small><table border=\"1\" class=\"dataframe\"><thead><tr><th>date_column</th><th>name_column</th><th>integer_column</th><th>float_column</th><th>bool_column</th><th>category_column</th></tr><tr><td>datetime[ns]</td><td>str</td><td>i64</td><td>f64</td><td>bool</td><td>cat</td></tr></thead><tbody><tr><td>2024-03-15 18:26:30.420614</td><td>&quot;Alice&quot;</td><td>87</td><td>0.916001</td><td>false</td><td>&quot;D&quot;</td></tr><tr><td>2024-02-04 18:26:30.420635</td><td>&quot;John&quot;</td><td>23</td><td>0.072863</td><td>false</td><td>&quot;D&quot;</td></tr><tr><td>2024-03-02 18:26:30.420637</td><td>&quot;Alice&quot;</td><td>18</td><td>0.242335</td><td>true</td><td>&quot;D&quot;</td></tr><tr><td>2023-08-24 18:26:30.420639</td><td>&quot;Alice&quot;</td><td>62</td><td>0.966935</td><td>true</td><td>&quot;D&quot;</td></tr><tr><td>2024-01-28 18:26:30.420641</td><td>&quot;Bob&quot;</td><td>8</td><td>0.436317</td><td>true</td><td>&quot;A&quot;</td></tr></tbody></table></div>"
      ],
      "text/plain": [
       "shape: (5, 6)\n",
       "┌─────────────────┬─────────────┬────────────────┬──────────────┬─────────────┬─────────────────┐\n",
       "│ date_column     ┆ name_column ┆ integer_column ┆ float_column ┆ bool_column ┆ category_column │\n",
       "│ ---             ┆ ---         ┆ ---            ┆ ---          ┆ ---         ┆ ---             │\n",
       "│ datetime[ns]    ┆ str         ┆ i64            ┆ f64          ┆ bool        ┆ cat             │\n",
       "╞═════════════════╪═════════════╪════════════════╪══════════════╪═════════════╪═════════════════╡\n",
       "│ 2024-03-15      ┆ Alice       ┆ 87             ┆ 0.916001     ┆ false       ┆ D               │\n",
       "│ 18:26:30.420614 ┆             ┆                ┆              ┆             ┆                 │\n",
       "│ 2024-02-04      ┆ John        ┆ 23             ┆ 0.072863     ┆ false       ┆ D               │\n",
       "│ 18:26:30.420635 ┆             ┆                ┆              ┆             ┆                 │\n",
       "│ 2024-03-02      ┆ Alice       ┆ 18             ┆ 0.242335     ┆ true        ┆ D               │\n",
       "│ 18:26:30.420637 ┆             ┆                ┆              ┆             ┆                 │\n",
       "│ 2023-08-24      ┆ Alice       ┆ 62             ┆ 0.966935     ┆ true        ┆ D               │\n",
       "│ 18:26:30.420639 ┆             ┆                ┆              ┆             ┆                 │\n",
       "│ 2024-01-28      ┆ Bob         ┆ 8              ┆ 0.436317     ┆ true        ┆ A               │\n",
       "│ 18:26:30.420641 ┆             ┆                ┆              ┆             ┆                 │\n",
       "└─────────────────┴─────────────┴────────────────┴──────────────┴─────────────┴─────────────────┘"
      ]
     },
     "execution_count": 49,
     "metadata": {},
     "output_type": "execute_result"
    }
   ],
   "source": [
    "df.head()"
   ]
  },
  {
   "cell_type": "code",
   "execution_count": 51,
   "metadata": {},
   "outputs": [
    {
     "data": {
      "text/plain": [
       "(datetime.datetime(2024, 4, 28, 18, 26, 54, 184901),\n",
       " datetime.datetime(2023, 4, 29, 18, 26, 10, 481317))"
      ]
     },
     "execution_count": 51,
     "metadata": {},
     "output_type": "execute_result"
    }
   ],
   "source": [
    "df[\"date_column\"].max(), df[\"date_column\"].min()"
   ]
  },
  {
   "cell_type": "code",
   "execution_count": 57,
   "metadata": {},
   "outputs": [
    {
     "data": {
      "text/html": [
       "<div><style>\n",
       ".dataframe > thead > tr,\n",
       ".dataframe > tbody > tr {\n",
       "  text-align: right;\n",
       "  white-space: pre-wrap;\n",
       "}\n",
       "</style>\n",
       "<small>shape: (1, 6)</small><table border=\"1\" class=\"dataframe\"><thead><tr><th>date_column</th><th>name_column</th><th>integer_column</th><th>float_column</th><th>bool_column</th><th>category_column</th></tr><tr><td>datetime[ns]</td><td>str</td><td>i64</td><td>f64</td><td>bool</td><td>cat</td></tr></thead><tbody><tr><td>2024-04-28 18:26:54.184901</td><td>&quot;Michael&quot;</td><td>48</td><td>0.758684</td><td>true</td><td>&quot;D&quot;</td></tr></tbody></table></div>"
      ],
      "text/plain": [
       "shape: (1, 6)\n",
       "┌─────────────────┬─────────────┬────────────────┬──────────────┬─────────────┬─────────────────┐\n",
       "│ date_column     ┆ name_column ┆ integer_column ┆ float_column ┆ bool_column ┆ category_column │\n",
       "│ ---             ┆ ---         ┆ ---            ┆ ---          ┆ ---         ┆ ---             │\n",
       "│ datetime[ns]    ┆ str         ┆ i64            ┆ f64          ┆ bool        ┆ cat             │\n",
       "╞═════════════════╪═════════════╪════════════════╪══════════════╪═════════════╪═════════════════╡\n",
       "│ 2024-04-28      ┆ Michael     ┆ 48             ┆ 0.758684     ┆ true        ┆ D               │\n",
       "│ 18:26:54.184901 ┆             ┆                ┆              ┆             ┆                 │\n",
       "└─────────────────┴─────────────┴────────────────┴──────────────┴─────────────┴─────────────────┘"
      ]
     },
     "execution_count": 57,
     "metadata": {},
     "output_type": "execute_result"
    }
   ],
   "source": [
    "df.filter(df[\"date_column\"]==df[\"date_column\"].max())"
   ]
  },
  {
   "cell_type": "code",
   "execution_count": 62,
   "metadata": {},
   "outputs": [
    {
     "data": {
      "text/html": [
       "<div><style>\n",
       ".dataframe > thead > tr,\n",
       ".dataframe > tbody > tr {\n",
       "  text-align: right;\n",
       "  white-space: pre-wrap;\n",
       "}\n",
       "</style>\n",
       "<small>shape: (2_485_585, 6)</small><table border=\"1\" class=\"dataframe\"><thead><tr><th>date_column</th><th>name_column</th><th>integer_column</th><th>float_column</th><th>bool_column</th><th>category_column</th></tr><tr><td>datetime[ns]</td><td>str</td><td>i64</td><td>f64</td><td>bool</td><td>cat</td></tr></thead><tbody><tr><td>2024-03-15 18:26:30.420614</td><td>&quot;Alice&quot;</td><td>87</td><td>0.916001</td><td>false</td><td>&quot;D&quot;</td></tr><tr><td>2024-02-04 18:26:30.420635</td><td>&quot;John&quot;</td><td>23</td><td>0.072863</td><td>false</td><td>&quot;D&quot;</td></tr><tr><td>2024-03-02 18:26:30.420637</td><td>&quot;Alice&quot;</td><td>18</td><td>0.242335</td><td>true</td><td>&quot;D&quot;</td></tr><tr><td>2024-01-28 18:26:30.420641</td><td>&quot;Bob&quot;</td><td>8</td><td>0.436317</td><td>true</td><td>&quot;A&quot;</td></tr><tr><td>2024-02-28 18:26:30.420647</td><td>&quot;John&quot;</td><td>10</td><td>0.742562</td><td>false</td><td>&quot;C&quot;</td></tr><tr><td>&hellip;</td><td>&hellip;</td><td>&hellip;</td><td>&hellip;</td><td>&hellip;</td><td>&hellip;</td></tr><tr><td>2024-03-06 18:26:49.704520</td><td>&quot;Michael&quot;</td><td>71</td><td>0.111697</td><td>true</td><td>&quot;B&quot;</td></tr><tr><td>2024-03-24 18:26:49.704523</td><td>&quot;Alice&quot;</td><td>84</td><td>0.67544</td><td>true</td><td>&quot;D&quot;</td></tr><tr><td>2024-03-30 18:26:49.704527</td><td>&quot;Alice&quot;</td><td>95</td><td>0.565232</td><td>false</td><td>&quot;D&quot;</td></tr><tr><td>2024-03-27 18:26:49.704529</td><td>&quot;Emma&quot;</td><td>99</td><td>0.145936</td><td>false</td><td>&quot;B&quot;</td></tr><tr><td>2024-03-11 18:26:49.704530</td><td>&quot;Emma&quot;</td><td>32</td><td>0.769892</td><td>true</td><td>&quot;C&quot;</td></tr></tbody></table></div>"
      ],
      "text/plain": [
       "shape: (2_485_585, 6)\n",
       "┌─────────────────┬─────────────┬────────────────┬──────────────┬─────────────┬─────────────────┐\n",
       "│ date_column     ┆ name_column ┆ integer_column ┆ float_column ┆ bool_column ┆ category_column │\n",
       "│ ---             ┆ ---         ┆ ---            ┆ ---          ┆ ---         ┆ ---             │\n",
       "│ datetime[ns]    ┆ str         ┆ i64            ┆ f64          ┆ bool        ┆ cat             │\n",
       "╞═════════════════╪═════════════╪════════════════╪══════════════╪═════════════╪═════════════════╡\n",
       "│ 2024-03-15      ┆ Alice       ┆ 87             ┆ 0.916001     ┆ false       ┆ D               │\n",
       "│ 18:26:30.420614 ┆             ┆                ┆              ┆             ┆                 │\n",
       "│ 2024-02-04      ┆ John        ┆ 23             ┆ 0.072863     ┆ false       ┆ D               │\n",
       "│ 18:26:30.420635 ┆             ┆                ┆              ┆             ┆                 │\n",
       "│ 2024-03-02      ┆ Alice       ┆ 18             ┆ 0.242335     ┆ true        ┆ D               │\n",
       "│ 18:26:30.420637 ┆             ┆                ┆              ┆             ┆                 │\n",
       "│ 2024-01-28      ┆ Bob         ┆ 8              ┆ 0.436317     ┆ true        ┆ A               │\n",
       "│ 18:26:30.420641 ┆             ┆                ┆              ┆             ┆                 │\n",
       "│ 2024-02-28      ┆ John        ┆ 10             ┆ 0.742562     ┆ false       ┆ C               │\n",
       "│ 18:26:30.420647 ┆             ┆                ┆              ┆             ┆                 │\n",
       "│ …               ┆ …           ┆ …              ┆ …            ┆ …           ┆ …               │\n",
       "│ 2024-03-06      ┆ Michael     ┆ 71             ┆ 0.111697     ┆ true        ┆ B               │\n",
       "│ 18:26:49.704520 ┆             ┆                ┆              ┆             ┆                 │\n",
       "│ 2024-03-24      ┆ Alice       ┆ 84             ┆ 0.67544      ┆ true        ┆ D               │\n",
       "│ 18:26:49.704523 ┆             ┆                ┆              ┆             ┆                 │\n",
       "│ 2024-03-30      ┆ Alice       ┆ 95             ┆ 0.565232     ┆ false       ┆ D               │\n",
       "│ 18:26:49.704527 ┆             ┆                ┆              ┆             ┆                 │\n",
       "│ 2024-03-27      ┆ Emma        ┆ 99             ┆ 0.145936     ┆ false       ┆ B               │\n",
       "│ 18:26:49.704529 ┆             ┆                ┆              ┆             ┆                 │\n",
       "│ 2024-03-11      ┆ Emma        ┆ 32             ┆ 0.769892     ┆ true        ┆ C               │\n",
       "│ 18:26:49.704530 ┆             ┆                ┆              ┆             ┆                 │\n",
       "└─────────────────┴─────────────┴────────────────┴──────────────┴─────────────┴─────────────────┘"
      ]
     },
     "execution_count": 62,
     "metadata": {},
     "output_type": "execute_result"
    }
   ],
   "source": [
    "df.filter(df[\"date_column\"].is_between(datetime.datetime(2024, 1, 1), datetime.datetime(2024, 4, 1)))"
   ]
  },
  {
   "cell_type": "code",
   "execution_count": 63,
   "metadata": {},
   "outputs": [
    {
     "data": {
      "text/html": [
       "<div><style>\n",
       ".dataframe > thead > tr,\n",
       ".dataframe > tbody > tr {\n",
       "  text-align: right;\n",
       "  white-space: pre-wrap;\n",
       "}\n",
       "</style>\n",
       "<small>shape: (2_485_585, 6)</small><table border=\"1\" class=\"dataframe\"><thead><tr><th>date_column</th><th>name_column</th><th>integer_column</th><th>float_column</th><th>bool_column</th><th>category_column</th></tr><tr><td>datetime[ns]</td><td>str</td><td>i64</td><td>f64</td><td>bool</td><td>cat</td></tr></thead><tbody><tr><td>2024-03-15 18:26:30.420614</td><td>&quot;Alice&quot;</td><td>87</td><td>0.916001</td><td>false</td><td>&quot;D&quot;</td></tr><tr><td>2024-02-04 18:26:30.420635</td><td>&quot;John&quot;</td><td>23</td><td>0.072863</td><td>false</td><td>&quot;D&quot;</td></tr><tr><td>2024-03-02 18:26:30.420637</td><td>&quot;Alice&quot;</td><td>18</td><td>0.242335</td><td>true</td><td>&quot;D&quot;</td></tr><tr><td>2024-01-28 18:26:30.420641</td><td>&quot;Bob&quot;</td><td>8</td><td>0.436317</td><td>true</td><td>&quot;A&quot;</td></tr><tr><td>2024-02-28 18:26:30.420647</td><td>&quot;John&quot;</td><td>10</td><td>0.742562</td><td>false</td><td>&quot;C&quot;</td></tr><tr><td>&hellip;</td><td>&hellip;</td><td>&hellip;</td><td>&hellip;</td><td>&hellip;</td><td>&hellip;</td></tr><tr><td>2024-03-06 18:26:49.704520</td><td>&quot;Michael&quot;</td><td>71</td><td>0.111697</td><td>true</td><td>&quot;B&quot;</td></tr><tr><td>2024-03-24 18:26:49.704523</td><td>&quot;Alice&quot;</td><td>84</td><td>0.67544</td><td>true</td><td>&quot;D&quot;</td></tr><tr><td>2024-03-30 18:26:49.704527</td><td>&quot;Alice&quot;</td><td>95</td><td>0.565232</td><td>false</td><td>&quot;D&quot;</td></tr><tr><td>2024-03-27 18:26:49.704529</td><td>&quot;Emma&quot;</td><td>99</td><td>0.145936</td><td>false</td><td>&quot;B&quot;</td></tr><tr><td>2024-03-11 18:26:49.704530</td><td>&quot;Emma&quot;</td><td>32</td><td>0.769892</td><td>true</td><td>&quot;C&quot;</td></tr></tbody></table></div>"
      ],
      "text/plain": [
       "shape: (2_485_585, 6)\n",
       "┌─────────────────┬─────────────┬────────────────┬──────────────┬─────────────┬─────────────────┐\n",
       "│ date_column     ┆ name_column ┆ integer_column ┆ float_column ┆ bool_column ┆ category_column │\n",
       "│ ---             ┆ ---         ┆ ---            ┆ ---          ┆ ---         ┆ ---             │\n",
       "│ datetime[ns]    ┆ str         ┆ i64            ┆ f64          ┆ bool        ┆ cat             │\n",
       "╞═════════════════╪═════════════╪════════════════╪══════════════╪═════════════╪═════════════════╡\n",
       "│ 2024-03-15      ┆ Alice       ┆ 87             ┆ 0.916001     ┆ false       ┆ D               │\n",
       "│ 18:26:30.420614 ┆             ┆                ┆              ┆             ┆                 │\n",
       "│ 2024-02-04      ┆ John        ┆ 23             ┆ 0.072863     ┆ false       ┆ D               │\n",
       "│ 18:26:30.420635 ┆             ┆                ┆              ┆             ┆                 │\n",
       "│ 2024-03-02      ┆ Alice       ┆ 18             ┆ 0.242335     ┆ true        ┆ D               │\n",
       "│ 18:26:30.420637 ┆             ┆                ┆              ┆             ┆                 │\n",
       "│ 2024-01-28      ┆ Bob         ┆ 8              ┆ 0.436317     ┆ true        ┆ A               │\n",
       "│ 18:26:30.420641 ┆             ┆                ┆              ┆             ┆                 │\n",
       "│ 2024-02-28      ┆ John        ┆ 10             ┆ 0.742562     ┆ false       ┆ C               │\n",
       "│ 18:26:30.420647 ┆             ┆                ┆              ┆             ┆                 │\n",
       "│ …               ┆ …           ┆ …              ┆ …            ┆ …           ┆ …               │\n",
       "│ 2024-03-06      ┆ Michael     ┆ 71             ┆ 0.111697     ┆ true        ┆ B               │\n",
       "│ 18:26:49.704520 ┆             ┆                ┆              ┆             ┆                 │\n",
       "│ 2024-03-24      ┆ Alice       ┆ 84             ┆ 0.67544      ┆ true        ┆ D               │\n",
       "│ 18:26:49.704523 ┆             ┆                ┆              ┆             ┆                 │\n",
       "│ 2024-03-30      ┆ Alice       ┆ 95             ┆ 0.565232     ┆ false       ┆ D               │\n",
       "│ 18:26:49.704527 ┆             ┆                ┆              ┆             ┆                 │\n",
       "│ 2024-03-27      ┆ Emma        ┆ 99             ┆ 0.145936     ┆ false       ┆ B               │\n",
       "│ 18:26:49.704529 ┆             ┆                ┆              ┆             ┆                 │\n",
       "│ 2024-03-11      ┆ Emma        ┆ 32             ┆ 0.769892     ┆ true        ┆ C               │\n",
       "│ 18:26:49.704530 ┆             ┆                ┆              ┆             ┆                 │\n",
       "└─────────────────┴─────────────┴────────────────┴──────────────┴─────────────┴─────────────────┘"
      ]
     },
     "execution_count": 63,
     "metadata": {},
     "output_type": "execute_result"
    }
   ],
   "source": [
    "df.filter(pl.col(\"date_column\").is_between(datetime.datetime(2024, 1, 1), datetime.datetime(2024, 4, 1)))"
   ]
  },
  {
   "cell_type": "code",
   "execution_count": 65,
   "metadata": {},
   "outputs": [
    {
     "data": {
      "text/html": [
       "col(\"date_column\").is_between([1704067200000000.strict_cast(Datetime(Microseconds, None)), 1711929600000000.strict_cast(Datetime(Microseconds, None))])"
      ],
      "text/plain": [
       "<Expr ['col(\"date_column\").is_between(…'] at 0x117360B10>"
      ]
     },
     "execution_count": 65,
     "metadata": {},
     "output_type": "execute_result"
    }
   ],
   "source": [
    "pl.col(\"date_column\").is_between(datetime.datetime(2024, 1, 1), datetime.datetime(2024, 4, 1))"
   ]
  },
  {
   "cell_type": "code",
   "execution_count": 66,
   "metadata": {},
   "outputs": [
    {
     "data": {
      "text/html": [
       "<div><style>\n",
       ".dataframe > thead > tr,\n",
       ".dataframe > tbody > tr {\n",
       "  text-align: right;\n",
       "  white-space: pre-wrap;\n",
       "}\n",
       "</style>\n",
       "<small>shape: (10_000_000,)</small><table border=\"1\" class=\"dataframe\"><thead><tr><th>date_column</th></tr><tr><td>bool</td></tr></thead><tbody><tr><td>true</td></tr><tr><td>true</td></tr><tr><td>true</td></tr><tr><td>false</td></tr><tr><td>true</td></tr><tr><td>&hellip;</td></tr><tr><td>true</td></tr><tr><td>true</td></tr><tr><td>false</td></tr><tr><td>false</td></tr><tr><td>false</td></tr></tbody></table></div>"
      ],
      "text/plain": [
       "shape: (10_000_000,)\n",
       "Series: 'date_column' [bool]\n",
       "[\n",
       "\ttrue\n",
       "\ttrue\n",
       "\ttrue\n",
       "\tfalse\n",
       "\ttrue\n",
       "\t…\n",
       "\ttrue\n",
       "\ttrue\n",
       "\tfalse\n",
       "\tfalse\n",
       "\tfalse\n",
       "]"
      ]
     },
     "execution_count": 66,
     "metadata": {},
     "output_type": "execute_result"
    }
   ],
   "source": [
    "df[\"date_column\"].is_between(datetime.datetime(2024, 1, 1), datetime.datetime(2024, 4, 1))"
   ]
  },
  {
   "cell_type": "code",
   "execution_count": 67,
   "metadata": {},
   "outputs": [
    {
     "data": {
      "text/html": [
       "<div><style>\n",
       ".dataframe > thead > tr,\n",
       ".dataframe > tbody > tr {\n",
       "  text-align: right;\n",
       "  white-space: pre-wrap;\n",
       "}\n",
       "</style>\n",
       "<small>shape: (5, 2)</small><table border=\"1\" class=\"dataframe\"><thead><tr><th>name_column</th><th>len</th></tr><tr><td>str</td><td>u32</td></tr></thead><tbody><tr><td>&quot;Alice&quot;</td><td>1999958</td></tr><tr><td>&quot;John&quot;</td><td>1998735</td></tr><tr><td>&quot;Bob&quot;</td><td>2000607</td></tr><tr><td>&quot;Michael&quot;</td><td>1999010</td></tr><tr><td>&quot;Emma&quot;</td><td>2001690</td></tr></tbody></table></div>"
      ],
      "text/plain": [
       "shape: (5, 2)\n",
       "┌─────────────┬─────────┐\n",
       "│ name_column ┆ len     │\n",
       "│ ---         ┆ ---     │\n",
       "│ str         ┆ u32     │\n",
       "╞═════════════╪═════════╡\n",
       "│ Alice       ┆ 1999958 │\n",
       "│ John        ┆ 1998735 │\n",
       "│ Bob         ┆ 2000607 │\n",
       "│ Michael     ┆ 1999010 │\n",
       "│ Emma        ┆ 2001690 │\n",
       "└─────────────┴─────────┘"
      ]
     },
     "execution_count": 67,
     "metadata": {},
     "output_type": "execute_result"
    }
   ],
   "source": [
    "df.group_by(\"name_column\", maintain_order=True).len()"
   ]
  },
  {
   "cell_type": "code",
   "execution_count": 68,
   "metadata": {},
   "outputs": [
    {
     "data": {
      "text/html": [
       "<div><style>\n",
       ".dataframe > thead > tr,\n",
       ".dataframe > tbody > tr {\n",
       "  text-align: right;\n",
       "  white-space: pre-wrap;\n",
       "}\n",
       "</style>\n",
       "<small>shape: (5, 2)</small><table border=\"1\" class=\"dataframe\"><thead><tr><th>name_column</th><th>len</th></tr><tr><td>str</td><td>u32</td></tr></thead><tbody><tr><td>&quot;Bob&quot;</td><td>2000607</td></tr><tr><td>&quot;Michael&quot;</td><td>1999010</td></tr><tr><td>&quot;Emma&quot;</td><td>2001690</td></tr><tr><td>&quot;John&quot;</td><td>1998735</td></tr><tr><td>&quot;Alice&quot;</td><td>1999958</td></tr></tbody></table></div>"
      ],
      "text/plain": [
       "shape: (5, 2)\n",
       "┌─────────────┬─────────┐\n",
       "│ name_column ┆ len     │\n",
       "│ ---         ┆ ---     │\n",
       "│ str         ┆ u32     │\n",
       "╞═════════════╪═════════╡\n",
       "│ Bob         ┆ 2000607 │\n",
       "│ Michael     ┆ 1999010 │\n",
       "│ Emma        ┆ 2001690 │\n",
       "│ John        ┆ 1998735 │\n",
       "│ Alice       ┆ 1999958 │\n",
       "└─────────────┴─────────┘"
      ]
     },
     "execution_count": 68,
     "metadata": {},
     "output_type": "execute_result"
    }
   ],
   "source": [
    "df.group_by(\"name_column\", maintain_order=False).len()"
   ]
  },
  {
   "cell_type": "code",
   "execution_count": 70,
   "metadata": {},
   "outputs": [
    {
     "data": {
      "text/html": [
       "<div><style>\n",
       ".dataframe > thead > tr,\n",
       ".dataframe > tbody > tr {\n",
       "  text-align: right;\n",
       "  white-space: pre-wrap;\n",
       "}\n",
       "</style>\n",
       "<small>shape: (5, 2)</small><table border=\"1\" class=\"dataframe\"><thead><tr><th>name_column</th><th>integer_column</th></tr><tr><td>str</td><td>i64</td></tr></thead><tbody><tr><td>&quot;Michael&quot;</td><td>99</td></tr><tr><td>&quot;Alice&quot;</td><td>99</td></tr><tr><td>&quot;Emma&quot;</td><td>99</td></tr><tr><td>&quot;Bob&quot;</td><td>99</td></tr><tr><td>&quot;John&quot;</td><td>99</td></tr></tbody></table></div>"
      ],
      "text/plain": [
       "shape: (5, 2)\n",
       "┌─────────────┬────────────────┐\n",
       "│ name_column ┆ integer_column │\n",
       "│ ---         ┆ ---            │\n",
       "│ str         ┆ i64            │\n",
       "╞═════════════╪════════════════╡\n",
       "│ Michael     ┆ 99             │\n",
       "│ Alice       ┆ 99             │\n",
       "│ Emma        ┆ 99             │\n",
       "│ Bob         ┆ 99             │\n",
       "│ John        ┆ 99             │\n",
       "└─────────────┴────────────────┘"
      ]
     },
     "execution_count": 70,
     "metadata": {},
     "output_type": "execute_result"
    }
   ],
   "source": [
    "df.group_by(\"name_column\", maintain_order=False).agg(pl.col(\"integer_column\").max())"
   ]
  },
  {
   "cell_type": "code",
   "execution_count": 74,
   "metadata": {},
   "outputs": [
    {
     "data": {
      "text/html": [
       "<div><style>\n",
       ".dataframe > thead > tr,\n",
       ".dataframe > tbody > tr {\n",
       "  text-align: right;\n",
       "  white-space: pre-wrap;\n",
       "}\n",
       "</style>\n",
       "<small>shape: (5, 3)</small><table border=\"1\" class=\"dataframe\"><thead><tr><th>name_column</th><th>max_age</th><th>min_age</th></tr><tr><td>str</td><td>i64</td><td>i64</td></tr></thead><tbody><tr><td>&quot;Emma&quot;</td><td>99</td><td>0</td></tr><tr><td>&quot;Bob&quot;</td><td>99</td><td>0</td></tr><tr><td>&quot;Alice&quot;</td><td>99</td><td>0</td></tr><tr><td>&quot;John&quot;</td><td>99</td><td>0</td></tr><tr><td>&quot;Michael&quot;</td><td>99</td><td>0</td></tr></tbody></table></div>"
      ],
      "text/plain": [
       "shape: (5, 3)\n",
       "┌─────────────┬─────────┬─────────┐\n",
       "│ name_column ┆ max_age ┆ min_age │\n",
       "│ ---         ┆ ---     ┆ ---     │\n",
       "│ str         ┆ i64     ┆ i64     │\n",
       "╞═════════════╪═════════╪═════════╡\n",
       "│ Emma        ┆ 99      ┆ 0       │\n",
       "│ Bob         ┆ 99      ┆ 0       │\n",
       "│ Alice       ┆ 99      ┆ 0       │\n",
       "│ John        ┆ 99      ┆ 0       │\n",
       "│ Michael     ┆ 99      ┆ 0       │\n",
       "└─────────────┴─────────┴─────────┘"
      ]
     },
     "execution_count": 74,
     "metadata": {},
     "output_type": "execute_result"
    }
   ],
   "source": [
    "df.group_by(\"name_column\", maintain_order=False).agg(pl.col(\"integer_column\").max().alias(\"max_age\"), pl.col(\"integer_column\").min().alias(\"min_age\"))"
   ]
  },
  {
   "cell_type": "code",
   "execution_count": 77,
   "metadata": {},
   "outputs": [
    {
     "data": {
      "text/html": [
       "<div><style>\n",
       ".dataframe > thead > tr,\n",
       ".dataframe > tbody > tr {\n",
       "  text-align: right;\n",
       "  white-space: pre-wrap;\n",
       "}\n",
       "</style>\n",
       "<small>shape: (10_000_000, 2)</small><table border=\"1\" class=\"dataframe\"><thead><tr><th>bool_column</th><th>name_column</th></tr><tr><td>bool</td><td>str</td></tr></thead><tbody><tr><td>false</td><td>&quot;Alice&quot;</td></tr><tr><td>false</td><td>&quot;John&quot;</td></tr><tr><td>true</td><td>&quot;Alice&quot;</td></tr><tr><td>true</td><td>&quot;Alice&quot;</td></tr><tr><td>true</td><td>&quot;Bob&quot;</td></tr><tr><td>&hellip;</td><td>&hellip;</td></tr><tr><td>false</td><td>&quot;Emma&quot;</td></tr><tr><td>true</td><td>&quot;Emma&quot;</td></tr><tr><td>false</td><td>&quot;Michael&quot;</td></tr><tr><td>true</td><td>&quot;Michael&quot;</td></tr><tr><td>true</td><td>&quot;Bob&quot;</td></tr></tbody></table></div>"
      ],
      "text/plain": [
       "shape: (10_000_000, 2)\n",
       "┌─────────────┬─────────────┐\n",
       "│ bool_column ┆ name_column │\n",
       "│ ---         ┆ ---         │\n",
       "│ bool        ┆ str         │\n",
       "╞═════════════╪═════════════╡\n",
       "│ false       ┆ Alice       │\n",
       "│ false       ┆ John        │\n",
       "│ true        ┆ Alice       │\n",
       "│ true        ┆ Alice       │\n",
       "│ true        ┆ Bob         │\n",
       "│ …           ┆ …           │\n",
       "│ false       ┆ Emma        │\n",
       "│ true        ┆ Emma        │\n",
       "│ false       ┆ Michael     │\n",
       "│ true        ┆ Michael     │\n",
       "│ true        ┆ Bob         │\n",
       "└─────────────┴─────────────┘"
      ]
     },
     "execution_count": 77,
     "metadata": {},
     "output_type": "execute_result"
    }
   ],
   "source": [
    "df.select(pl.col(\"bool_column\"), pl.col(\"name_column\"))"
   ]
  },
  {
   "cell_type": "code",
   "execution_count": 86,
   "metadata": {},
   "outputs": [
    {
     "data": {
      "text/html": [
       "<div><style>\n",
       ".dataframe > thead > tr,\n",
       ".dataframe > tbody > tr {\n",
       "  text-align: right;\n",
       "  white-space: pre-wrap;\n",
       "}\n",
       "</style>\n",
       "<small>shape: (20_000_000, 6)</small><table border=\"1\" class=\"dataframe\"><thead><tr><th>date_column</th><th>name_column</th><th>integer_column</th><th>float_column</th><th>bool_column</th><th>category_column</th></tr><tr><td>datetime[ns]</td><td>str</td><td>i64</td><td>f64</td><td>bool</td><td>cat</td></tr></thead><tbody><tr><td>2024-03-15 18:26:30.420614</td><td>&quot;Alice&quot;</td><td>87</td><td>0.916001</td><td>false</td><td>&quot;D&quot;</td></tr><tr><td>2024-02-04 18:26:30.420635</td><td>&quot;John&quot;</td><td>23</td><td>0.072863</td><td>false</td><td>&quot;D&quot;</td></tr><tr><td>2024-03-02 18:26:30.420637</td><td>&quot;Alice&quot;</td><td>18</td><td>0.242335</td><td>true</td><td>&quot;D&quot;</td></tr><tr><td>2023-08-24 18:26:30.420639</td><td>&quot;Alice&quot;</td><td>62</td><td>0.966935</td><td>true</td><td>&quot;D&quot;</td></tr><tr><td>2024-01-28 18:26:30.420641</td><td>&quot;Bob&quot;</td><td>8</td><td>0.436317</td><td>true</td><td>&quot;A&quot;</td></tr><tr><td>&hellip;</td><td>&hellip;</td><td>&hellip;</td><td>&hellip;</td><td>&hellip;</td><td>&hellip;</td></tr><tr><td>2024-03-27 18:26:49.704529</td><td>&quot;Emma&quot;</td><td>99</td><td>0.145936</td><td>false</td><td>&quot;B&quot;</td></tr><tr><td>2024-03-11 18:26:49.704530</td><td>&quot;Emma&quot;</td><td>32</td><td>0.769892</td><td>true</td><td>&quot;C&quot;</td></tr><tr><td>2023-06-19 18:26:49.704531</td><td>&quot;Michael&quot;</td><td>62</td><td>0.729478</td><td>false</td><td>&quot;C&quot;</td></tr><tr><td>2023-12-29 18:26:49.704533</td><td>&quot;Michael&quot;</td><td>99</td><td>0.319969</td><td>true</td><td>&quot;D&quot;</td></tr><tr><td>2023-08-27 18:26:49.704534</td><td>&quot;Bob&quot;</td><td>82</td><td>0.232214</td><td>true</td><td>&quot;D&quot;</td></tr></tbody></table></div>"
      ],
      "text/plain": [
       "shape: (20_000_000, 6)\n",
       "┌─────────────────┬─────────────┬────────────────┬──────────────┬─────────────┬─────────────────┐\n",
       "│ date_column     ┆ name_column ┆ integer_column ┆ float_column ┆ bool_column ┆ category_column │\n",
       "│ ---             ┆ ---         ┆ ---            ┆ ---          ┆ ---         ┆ ---             │\n",
       "│ datetime[ns]    ┆ str         ┆ i64            ┆ f64          ┆ bool        ┆ cat             │\n",
       "╞═════════════════╪═════════════╪════════════════╪══════════════╪═════════════╪═════════════════╡\n",
       "│ 2024-03-15      ┆ Alice       ┆ 87             ┆ 0.916001     ┆ false       ┆ D               │\n",
       "│ 18:26:30.420614 ┆             ┆                ┆              ┆             ┆                 │\n",
       "│ 2024-02-04      ┆ John        ┆ 23             ┆ 0.072863     ┆ false       ┆ D               │\n",
       "│ 18:26:30.420635 ┆             ┆                ┆              ┆             ┆                 │\n",
       "│ 2024-03-02      ┆ Alice       ┆ 18             ┆ 0.242335     ┆ true        ┆ D               │\n",
       "│ 18:26:30.420637 ┆             ┆                ┆              ┆             ┆                 │\n",
       "│ 2023-08-24      ┆ Alice       ┆ 62             ┆ 0.966935     ┆ true        ┆ D               │\n",
       "│ 18:26:30.420639 ┆             ┆                ┆              ┆             ┆                 │\n",
       "│ 2024-01-28      ┆ Bob         ┆ 8              ┆ 0.436317     ┆ true        ┆ A               │\n",
       "│ 18:26:30.420641 ┆             ┆                ┆              ┆             ┆                 │\n",
       "│ …               ┆ …           ┆ …              ┆ …            ┆ …           ┆ …               │\n",
       "│ 2024-03-27      ┆ Emma        ┆ 99             ┆ 0.145936     ┆ false       ┆ B               │\n",
       "│ 18:26:49.704529 ┆             ┆                ┆              ┆             ┆                 │\n",
       "│ 2024-03-11      ┆ Emma        ┆ 32             ┆ 0.769892     ┆ true        ┆ C               │\n",
       "│ 18:26:49.704530 ┆             ┆                ┆              ┆             ┆                 │\n",
       "│ 2023-06-19      ┆ Michael     ┆ 62             ┆ 0.729478     ┆ false       ┆ C               │\n",
       "│ 18:26:49.704531 ┆             ┆                ┆              ┆             ┆                 │\n",
       "│ 2023-12-29      ┆ Michael     ┆ 99             ┆ 0.319969     ┆ true        ┆ D               │\n",
       "│ 18:26:49.704533 ┆             ┆                ┆              ┆             ┆                 │\n",
       "│ 2023-08-27      ┆ Bob         ┆ 82             ┆ 0.232214     ┆ true        ┆ D               │\n",
       "│ 18:26:49.704534 ┆             ┆                ┆              ┆             ┆                 │\n",
       "└─────────────────┴─────────────┴────────────────┴──────────────┴─────────────┴─────────────────┘"
      ]
     },
     "execution_count": 86,
     "metadata": {},
     "output_type": "execute_result"
    }
   ],
   "source": [
    "df.vstack(df)"
   ]
  },
  {
   "cell_type": "code",
   "execution_count": 90,
   "metadata": {},
   "outputs": [
    {
     "data": {
      "text/html": [
       "<div><style>\n",
       ".dataframe > thead > tr,\n",
       ".dataframe > tbody > tr {\n",
       "  text-align: right;\n",
       "  white-space: pre-wrap;\n",
       "}\n",
       "</style>\n",
       "<small>shape: (10_000_000, 6)</small><table border=\"1\" class=\"dataframe\"><thead><tr><th>right_date_column</th><th>right_name_column</th><th>right_integer_column</th><th>right_float_column</th><th>right_bool_column</th><th>right_category_column</th></tr><tr><td>datetime[ns]</td><td>str</td><td>i64</td><td>f64</td><td>bool</td><td>cat</td></tr></thead><tbody><tr><td>2024-03-15 18:26:30.420614</td><td>&quot;Alice&quot;</td><td>87</td><td>0.916001</td><td>false</td><td>&quot;D&quot;</td></tr><tr><td>2024-02-04 18:26:30.420635</td><td>&quot;John&quot;</td><td>23</td><td>0.072863</td><td>false</td><td>&quot;D&quot;</td></tr><tr><td>2024-03-02 18:26:30.420637</td><td>&quot;Alice&quot;</td><td>18</td><td>0.242335</td><td>true</td><td>&quot;D&quot;</td></tr><tr><td>2023-08-24 18:26:30.420639</td><td>&quot;Alice&quot;</td><td>62</td><td>0.966935</td><td>true</td><td>&quot;D&quot;</td></tr><tr><td>2024-01-28 18:26:30.420641</td><td>&quot;Bob&quot;</td><td>8</td><td>0.436317</td><td>true</td><td>&quot;A&quot;</td></tr><tr><td>&hellip;</td><td>&hellip;</td><td>&hellip;</td><td>&hellip;</td><td>&hellip;</td><td>&hellip;</td></tr><tr><td>2024-03-27 18:26:49.704529</td><td>&quot;Emma&quot;</td><td>99</td><td>0.145936</td><td>false</td><td>&quot;B&quot;</td></tr><tr><td>2024-03-11 18:26:49.704530</td><td>&quot;Emma&quot;</td><td>32</td><td>0.769892</td><td>true</td><td>&quot;C&quot;</td></tr><tr><td>2023-06-19 18:26:49.704531</td><td>&quot;Michael&quot;</td><td>62</td><td>0.729478</td><td>false</td><td>&quot;C&quot;</td></tr><tr><td>2023-12-29 18:26:49.704533</td><td>&quot;Michael&quot;</td><td>99</td><td>0.319969</td><td>true</td><td>&quot;D&quot;</td></tr><tr><td>2023-08-27 18:26:49.704534</td><td>&quot;Bob&quot;</td><td>82</td><td>0.232214</td><td>true</td><td>&quot;D&quot;</td></tr></tbody></table></div>"
      ],
      "text/plain": [
       "shape: (10_000_000, 6)\n",
       "┌────────────────┬────────────────┬────────────────┬───────────────┬───────────────┬───────────────┐\n",
       "│ right_date_col ┆ right_name_col ┆ right_integer_ ┆ right_float_c ┆ right_bool_co ┆ right_categor │\n",
       "│ umn            ┆ umn            ┆ column         ┆ olumn         ┆ lumn          ┆ y_column      │\n",
       "│ ---            ┆ ---            ┆ ---            ┆ ---           ┆ ---           ┆ ---           │\n",
       "│ datetime[ns]   ┆ str            ┆ i64            ┆ f64           ┆ bool          ┆ cat           │\n",
       "╞════════════════╪════════════════╪════════════════╪═══════════════╪═══════════════╪═══════════════╡\n",
       "│ 2024-03-15 18: ┆ Alice          ┆ 87             ┆ 0.916001      ┆ false         ┆ D             │\n",
       "│ 26:30.420614   ┆                ┆                ┆               ┆               ┆               │\n",
       "│ 2024-02-04 18: ┆ John           ┆ 23             ┆ 0.072863      ┆ false         ┆ D             │\n",
       "│ 26:30.420635   ┆                ┆                ┆               ┆               ┆               │\n",
       "│ 2024-03-02 18: ┆ Alice          ┆ 18             ┆ 0.242335      ┆ true          ┆ D             │\n",
       "│ 26:30.420637   ┆                ┆                ┆               ┆               ┆               │\n",
       "│ 2023-08-24 18: ┆ Alice          ┆ 62             ┆ 0.966935      ┆ true          ┆ D             │\n",
       "│ 26:30.420639   ┆                ┆                ┆               ┆               ┆               │\n",
       "│ 2024-01-28 18: ┆ Bob            ┆ 8              ┆ 0.436317      ┆ true          ┆ A             │\n",
       "│ 26:30.420641   ┆                ┆                ┆               ┆               ┆               │\n",
       "│ …              ┆ …              ┆ …              ┆ …             ┆ …             ┆ …             │\n",
       "│ 2024-03-27 18: ┆ Emma           ┆ 99             ┆ 0.145936      ┆ false         ┆ B             │\n",
       "│ 26:49.704529   ┆                ┆                ┆               ┆               ┆               │\n",
       "│ 2024-03-11 18: ┆ Emma           ┆ 32             ┆ 0.769892      ┆ true          ┆ C             │\n",
       "│ 26:49.704530   ┆                ┆                ┆               ┆               ┆               │\n",
       "│ 2023-06-19 18: ┆ Michael        ┆ 62             ┆ 0.729478      ┆ false         ┆ C             │\n",
       "│ 26:49.704531   ┆                ┆                ┆               ┆               ┆               │\n",
       "│ 2023-12-29 18: ┆ Michael        ┆ 99             ┆ 0.319969      ┆ true          ┆ D             │\n",
       "│ 26:49.704533   ┆                ┆                ┆               ┆               ┆               │\n",
       "│ 2023-08-27 18: ┆ Bob            ┆ 82             ┆ 0.232214      ┆ true          ┆ D             │\n",
       "│ 26:49.704534   ┆                ┆                ┆               ┆               ┆               │\n",
       "└────────────────┴────────────────┴────────────────┴───────────────┴───────────────┴───────────────┘"
      ]
     },
     "execution_count": 90,
     "metadata": {},
     "output_type": "execute_result"
    }
   ],
   "source": [
    "df.rename({c: f\"right_{c}\" for c in df.columns})"
   ]
  },
  {
   "cell_type": "code",
   "execution_count": 91,
   "metadata": {},
   "outputs": [
    {
     "data": {
      "text/html": [
       "<div><style>\n",
       ".dataframe > thead > tr,\n",
       ".dataframe > tbody > tr {\n",
       "  text-align: right;\n",
       "  white-space: pre-wrap;\n",
       "}\n",
       "</style>\n",
       "<small>shape: (20_000_000, 6)</small><table border=\"1\" class=\"dataframe\"><thead><tr><th>date_column</th><th>name_column</th><th>integer_column</th><th>float_column</th><th>bool_column</th><th>category_column</th></tr><tr><td>datetime[ns]</td><td>str</td><td>i64</td><td>f64</td><td>bool</td><td>cat</td></tr></thead><tbody><tr><td>2024-03-15 18:26:30.420614</td><td>&quot;Alice&quot;</td><td>87</td><td>0.916001</td><td>false</td><td>&quot;D&quot;</td></tr><tr><td>2024-02-04 18:26:30.420635</td><td>&quot;John&quot;</td><td>23</td><td>0.072863</td><td>false</td><td>&quot;D&quot;</td></tr><tr><td>2024-03-02 18:26:30.420637</td><td>&quot;Alice&quot;</td><td>18</td><td>0.242335</td><td>true</td><td>&quot;D&quot;</td></tr><tr><td>2023-08-24 18:26:30.420639</td><td>&quot;Alice&quot;</td><td>62</td><td>0.966935</td><td>true</td><td>&quot;D&quot;</td></tr><tr><td>2024-01-28 18:26:30.420641</td><td>&quot;Bob&quot;</td><td>8</td><td>0.436317</td><td>true</td><td>&quot;A&quot;</td></tr><tr><td>&hellip;</td><td>&hellip;</td><td>&hellip;</td><td>&hellip;</td><td>&hellip;</td><td>&hellip;</td></tr><tr><td>2024-03-27 18:26:49.704529</td><td>&quot;Emma&quot;</td><td>99</td><td>0.145936</td><td>false</td><td>&quot;B&quot;</td></tr><tr><td>2024-03-11 18:26:49.704530</td><td>&quot;Emma&quot;</td><td>32</td><td>0.769892</td><td>true</td><td>&quot;C&quot;</td></tr><tr><td>2023-06-19 18:26:49.704531</td><td>&quot;Michael&quot;</td><td>62</td><td>0.729478</td><td>false</td><td>&quot;C&quot;</td></tr><tr><td>2023-12-29 18:26:49.704533</td><td>&quot;Michael&quot;</td><td>99</td><td>0.319969</td><td>true</td><td>&quot;D&quot;</td></tr><tr><td>2023-08-27 18:26:49.704534</td><td>&quot;Bob&quot;</td><td>82</td><td>0.232214</td><td>true</td><td>&quot;D&quot;</td></tr></tbody></table></div>"
      ],
      "text/plain": [
       "shape: (20_000_000, 6)\n",
       "┌─────────────────┬─────────────┬────────────────┬──────────────┬─────────────┬─────────────────┐\n",
       "│ date_column     ┆ name_column ┆ integer_column ┆ float_column ┆ bool_column ┆ category_column │\n",
       "│ ---             ┆ ---         ┆ ---            ┆ ---          ┆ ---         ┆ ---             │\n",
       "│ datetime[ns]    ┆ str         ┆ i64            ┆ f64          ┆ bool        ┆ cat             │\n",
       "╞═════════════════╪═════════════╪════════════════╪══════════════╪═════════════╪═════════════════╡\n",
       "│ 2024-03-15      ┆ Alice       ┆ 87             ┆ 0.916001     ┆ false       ┆ D               │\n",
       "│ 18:26:30.420614 ┆             ┆                ┆              ┆             ┆                 │\n",
       "│ 2024-02-04      ┆ John        ┆ 23             ┆ 0.072863     ┆ false       ┆ D               │\n",
       "│ 18:26:30.420635 ┆             ┆                ┆              ┆             ┆                 │\n",
       "│ 2024-03-02      ┆ Alice       ┆ 18             ┆ 0.242335     ┆ true        ┆ D               │\n",
       "│ 18:26:30.420637 ┆             ┆                ┆              ┆             ┆                 │\n",
       "│ 2023-08-24      ┆ Alice       ┆ 62             ┆ 0.966935     ┆ true        ┆ D               │\n",
       "│ 18:26:30.420639 ┆             ┆                ┆              ┆             ┆                 │\n",
       "│ 2024-01-28      ┆ Bob         ┆ 8              ┆ 0.436317     ┆ true        ┆ A               │\n",
       "│ 18:26:30.420641 ┆             ┆                ┆              ┆             ┆                 │\n",
       "│ …               ┆ …           ┆ …              ┆ …            ┆ …           ┆ …               │\n",
       "│ 2024-03-27      ┆ Emma        ┆ 99             ┆ 0.145936     ┆ false       ┆ B               │\n",
       "│ 18:26:49.704529 ┆             ┆                ┆              ┆             ┆                 │\n",
       "│ 2024-03-11      ┆ Emma        ┆ 32             ┆ 0.769892     ┆ true        ┆ C               │\n",
       "│ 18:26:49.704530 ┆             ┆                ┆              ┆             ┆                 │\n",
       "│ 2023-06-19      ┆ Michael     ┆ 62             ┆ 0.729478     ┆ false       ┆ C               │\n",
       "│ 18:26:49.704531 ┆             ┆                ┆              ┆             ┆                 │\n",
       "│ 2023-12-29      ┆ Michael     ┆ 99             ┆ 0.319969     ┆ true        ┆ D               │\n",
       "│ 18:26:49.704533 ┆             ┆                ┆              ┆             ┆                 │\n",
       "│ 2023-08-27      ┆ Bob         ┆ 82             ┆ 0.232214     ┆ true        ┆ D               │\n",
       "│ 18:26:49.704534 ┆             ┆                ┆              ┆             ┆                 │\n",
       "└─────────────────┴─────────────┴────────────────┴──────────────┴─────────────┴─────────────────┘"
      ]
     },
     "execution_count": 91,
     "metadata": {},
     "output_type": "execute_result"
    }
   ],
   "source": [
    "pl.concat([df, df], how=\"vertical\")"
   ]
  },
  {
   "cell_type": "code",
   "execution_count": 93,
   "metadata": {},
   "outputs": [
    {
     "data": {
      "text/html": [
       "<div><style>\n",
       ".dataframe > thead > tr,\n",
       ".dataframe > tbody > tr {\n",
       "  text-align: right;\n",
       "  white-space: pre-wrap;\n",
       "}\n",
       "</style>\n",
       "<small>shape: (10_000_000, 12)</small><table border=\"1\" class=\"dataframe\"><thead><tr><th>date_column</th><th>name_column</th><th>integer_column</th><th>float_column</th><th>bool_column</th><th>category_column</th><th>right_date_column</th><th>right_name_column</th><th>right_integer_column</th><th>right_float_column</th><th>right_bool_column</th><th>right_category_column</th></tr><tr><td>datetime[ns]</td><td>str</td><td>i64</td><td>f64</td><td>bool</td><td>cat</td><td>datetime[ns]</td><td>str</td><td>i64</td><td>f64</td><td>bool</td><td>cat</td></tr></thead><tbody><tr><td>2024-03-15 18:26:30.420614</td><td>&quot;Alice&quot;</td><td>87</td><td>0.916001</td><td>false</td><td>&quot;D&quot;</td><td>2024-03-15 18:26:30.420614</td><td>&quot;Alice&quot;</td><td>87</td><td>0.916001</td><td>false</td><td>&quot;D&quot;</td></tr><tr><td>2024-02-04 18:26:30.420635</td><td>&quot;John&quot;</td><td>23</td><td>0.072863</td><td>false</td><td>&quot;D&quot;</td><td>2024-02-04 18:26:30.420635</td><td>&quot;John&quot;</td><td>23</td><td>0.072863</td><td>false</td><td>&quot;D&quot;</td></tr><tr><td>2024-03-02 18:26:30.420637</td><td>&quot;Alice&quot;</td><td>18</td><td>0.242335</td><td>true</td><td>&quot;D&quot;</td><td>2024-03-02 18:26:30.420637</td><td>&quot;Alice&quot;</td><td>18</td><td>0.242335</td><td>true</td><td>&quot;D&quot;</td></tr><tr><td>2023-08-24 18:26:30.420639</td><td>&quot;Alice&quot;</td><td>62</td><td>0.966935</td><td>true</td><td>&quot;D&quot;</td><td>2023-08-24 18:26:30.420639</td><td>&quot;Alice&quot;</td><td>62</td><td>0.966935</td><td>true</td><td>&quot;D&quot;</td></tr><tr><td>2024-01-28 18:26:30.420641</td><td>&quot;Bob&quot;</td><td>8</td><td>0.436317</td><td>true</td><td>&quot;A&quot;</td><td>2024-01-28 18:26:30.420641</td><td>&quot;Bob&quot;</td><td>8</td><td>0.436317</td><td>true</td><td>&quot;A&quot;</td></tr><tr><td>&hellip;</td><td>&hellip;</td><td>&hellip;</td><td>&hellip;</td><td>&hellip;</td><td>&hellip;</td><td>&hellip;</td><td>&hellip;</td><td>&hellip;</td><td>&hellip;</td><td>&hellip;</td><td>&hellip;</td></tr><tr><td>2024-03-27 18:26:49.704529</td><td>&quot;Emma&quot;</td><td>99</td><td>0.145936</td><td>false</td><td>&quot;B&quot;</td><td>2024-03-27 18:26:49.704529</td><td>&quot;Emma&quot;</td><td>99</td><td>0.145936</td><td>false</td><td>&quot;B&quot;</td></tr><tr><td>2024-03-11 18:26:49.704530</td><td>&quot;Emma&quot;</td><td>32</td><td>0.769892</td><td>true</td><td>&quot;C&quot;</td><td>2024-03-11 18:26:49.704530</td><td>&quot;Emma&quot;</td><td>32</td><td>0.769892</td><td>true</td><td>&quot;C&quot;</td></tr><tr><td>2023-06-19 18:26:49.704531</td><td>&quot;Michael&quot;</td><td>62</td><td>0.729478</td><td>false</td><td>&quot;C&quot;</td><td>2023-06-19 18:26:49.704531</td><td>&quot;Michael&quot;</td><td>62</td><td>0.729478</td><td>false</td><td>&quot;C&quot;</td></tr><tr><td>2023-12-29 18:26:49.704533</td><td>&quot;Michael&quot;</td><td>99</td><td>0.319969</td><td>true</td><td>&quot;D&quot;</td><td>2023-12-29 18:26:49.704533</td><td>&quot;Michael&quot;</td><td>99</td><td>0.319969</td><td>true</td><td>&quot;D&quot;</td></tr><tr><td>2023-08-27 18:26:49.704534</td><td>&quot;Bob&quot;</td><td>82</td><td>0.232214</td><td>true</td><td>&quot;D&quot;</td><td>2023-08-27 18:26:49.704534</td><td>&quot;Bob&quot;</td><td>82</td><td>0.232214</td><td>true</td><td>&quot;D&quot;</td></tr></tbody></table></div>"
      ],
      "text/plain": [
       "shape: (10_000_000, 12)\n",
       "┌───────────┬───────────┬───────────┬───────────┬───┬───────────┬───────────┬───────────┬──────────┐\n",
       "│ date_colu ┆ name_colu ┆ integer_c ┆ float_col ┆ … ┆ right_int ┆ right_flo ┆ right_boo ┆ right_ca │\n",
       "│ mn        ┆ mn        ┆ olumn     ┆ umn       ┆   ┆ eger_colu ┆ at_column ┆ l_column  ┆ tegory_c │\n",
       "│ ---       ┆ ---       ┆ ---       ┆ ---       ┆   ┆ mn        ┆ ---       ┆ ---       ┆ olumn    │\n",
       "│ datetime[ ┆ str       ┆ i64       ┆ f64       ┆   ┆ ---       ┆ f64       ┆ bool      ┆ ---      │\n",
       "│ ns]       ┆           ┆           ┆           ┆   ┆ i64       ┆           ┆           ┆ cat      │\n",
       "╞═══════════╪═══════════╪═══════════╪═══════════╪═══╪═══════════╪═══════════╪═══════════╪══════════╡\n",
       "│ 2024-03-1 ┆ Alice     ┆ 87        ┆ 0.916001  ┆ … ┆ 87        ┆ 0.916001  ┆ false     ┆ D        │\n",
       "│ 5 18:26:3 ┆           ┆           ┆           ┆   ┆           ┆           ┆           ┆          │\n",
       "│ 0.420614  ┆           ┆           ┆           ┆   ┆           ┆           ┆           ┆          │\n",
       "│ 2024-02-0 ┆ John      ┆ 23        ┆ 0.072863  ┆ … ┆ 23        ┆ 0.072863  ┆ false     ┆ D        │\n",
       "│ 4 18:26:3 ┆           ┆           ┆           ┆   ┆           ┆           ┆           ┆          │\n",
       "│ 0.420635  ┆           ┆           ┆           ┆   ┆           ┆           ┆           ┆          │\n",
       "│ 2024-03-0 ┆ Alice     ┆ 18        ┆ 0.242335  ┆ … ┆ 18        ┆ 0.242335  ┆ true      ┆ D        │\n",
       "│ 2 18:26:3 ┆           ┆           ┆           ┆   ┆           ┆           ┆           ┆          │\n",
       "│ 0.420637  ┆           ┆           ┆           ┆   ┆           ┆           ┆           ┆          │\n",
       "│ 2023-08-2 ┆ Alice     ┆ 62        ┆ 0.966935  ┆ … ┆ 62        ┆ 0.966935  ┆ true      ┆ D        │\n",
       "│ 4 18:26:3 ┆           ┆           ┆           ┆   ┆           ┆           ┆           ┆          │\n",
       "│ 0.420639  ┆           ┆           ┆           ┆   ┆           ┆           ┆           ┆          │\n",
       "│ 2024-01-2 ┆ Bob       ┆ 8         ┆ 0.436317  ┆ … ┆ 8         ┆ 0.436317  ┆ true      ┆ A        │\n",
       "│ 8 18:26:3 ┆           ┆           ┆           ┆   ┆           ┆           ┆           ┆          │\n",
       "│ 0.420641  ┆           ┆           ┆           ┆   ┆           ┆           ┆           ┆          │\n",
       "│ …         ┆ …         ┆ …         ┆ …         ┆ … ┆ …         ┆ …         ┆ …         ┆ …        │\n",
       "│ 2024-03-2 ┆ Emma      ┆ 99        ┆ 0.145936  ┆ … ┆ 99        ┆ 0.145936  ┆ false     ┆ B        │\n",
       "│ 7 18:26:4 ┆           ┆           ┆           ┆   ┆           ┆           ┆           ┆          │\n",
       "│ 9.704529  ┆           ┆           ┆           ┆   ┆           ┆           ┆           ┆          │\n",
       "│ 2024-03-1 ┆ Emma      ┆ 32        ┆ 0.769892  ┆ … ┆ 32        ┆ 0.769892  ┆ true      ┆ C        │\n",
       "│ 1 18:26:4 ┆           ┆           ┆           ┆   ┆           ┆           ┆           ┆          │\n",
       "│ 9.704530  ┆           ┆           ┆           ┆   ┆           ┆           ┆           ┆          │\n",
       "│ 2023-06-1 ┆ Michael   ┆ 62        ┆ 0.729478  ┆ … ┆ 62        ┆ 0.729478  ┆ false     ┆ C        │\n",
       "│ 9 18:26:4 ┆           ┆           ┆           ┆   ┆           ┆           ┆           ┆          │\n",
       "│ 9.704531  ┆           ┆           ┆           ┆   ┆           ┆           ┆           ┆          │\n",
       "│ 2023-12-2 ┆ Michael   ┆ 99        ┆ 0.319969  ┆ … ┆ 99        ┆ 0.319969  ┆ true      ┆ D        │\n",
       "│ 9 18:26:4 ┆           ┆           ┆           ┆   ┆           ┆           ┆           ┆          │\n",
       "│ 9.704533  ┆           ┆           ┆           ┆   ┆           ┆           ┆           ┆          │\n",
       "│ 2023-08-2 ┆ Bob       ┆ 82        ┆ 0.232214  ┆ … ┆ 82        ┆ 0.232214  ┆ true      ┆ D        │\n",
       "│ 7 18:26:4 ┆           ┆           ┆           ┆   ┆           ┆           ┆           ┆          │\n",
       "│ 9.704534  ┆           ┆           ┆           ┆   ┆           ┆           ┆           ┆          │\n",
       "└───────────┴───────────┴───────────┴───────────┴───┴───────────┴───────────┴───────────┴──────────┘"
      ]
     },
     "execution_count": 93,
     "metadata": {},
     "output_type": "execute_result"
    }
   ],
   "source": [
    "pl.concat([df, df.rename({c: f\"right_{c}\" for c in df.columns})], how=\"horizontal\")"
   ]
  },
  {
   "cell_type": "code",
   "execution_count": 2,
   "metadata": {},
   "outputs": [
    {
     "data": {},
     "metadata": {},
     "output_type": "display_data"
    },
    {
     "data": {
      "application/vnd.holoviews_exec.v0+json": "",
      "text/html": [
       "<div id='p1004'>\n",
       "  <div id=\"e55b4a8b-1bfd-45f5-9eda-8e238fe1aeae\" data-root-id=\"p1004\" style=\"display: contents;\"></div>\n",
       "</div>\n",
       "<script type=\"application/javascript\">(function(root) {\n",
       "  var docs_json = {\"1d176ea1-4512-48e3-8775-e513e3fcb22f\":{\"version\":\"3.4.1\",\"title\":\"Bokeh Application\",\"roots\":[{\"type\":\"object\",\"name\":\"Row\",\"id\":\"p1004\",\"attributes\":{\"name\":\"Row01017\",\"tags\":[\"embedded\"],\"stylesheets\":[\"\\n:host(.pn-loading):before, .pn-loading:before {\\n  background-color: #c3c3c3;\\n  mask-size: auto calc(min(50%, 400px));\\n  -webkit-mask-size: auto calc(min(50%, 400px));\\n}\",{\"type\":\"object\",\"name\":\"ImportedStyleSheet\",\"id\":\"p1007\",\"attributes\":{\"url\":\"https://cdn.holoviz.org/panel/1.4.2/dist/css/loading.css\"}},{\"type\":\"object\",\"name\":\"ImportedStyleSheet\",\"id\":\"p1063\",\"attributes\":{\"url\":\"https://cdn.holoviz.org/panel/1.4.2/dist/css/listpanel.css\"}},{\"type\":\"object\",\"name\":\"ImportedStyleSheet\",\"id\":\"p1005\",\"attributes\":{\"url\":\"https://cdn.holoviz.org/panel/1.4.2/dist/bundled/theme/default.css\"}},{\"type\":\"object\",\"name\":\"ImportedStyleSheet\",\"id\":\"p1006\",\"attributes\":{\"url\":\"https://cdn.holoviz.org/panel/1.4.2/dist/bundled/theme/native.css\"}}],\"min_width\":700,\"margin\":0,\"sizing_mode\":\"stretch_width\",\"align\":\"start\",\"children\":[{\"type\":\"object\",\"name\":\"Spacer\",\"id\":\"p1008\",\"attributes\":{\"name\":\"HSpacer01024\",\"stylesheets\":[\"\\n:host(.pn-loading):before, .pn-loading:before {\\n  background-color: #c3c3c3;\\n  mask-size: auto calc(min(50%, 400px));\\n  -webkit-mask-size: auto calc(min(50%, 400px));\\n}\",{\"id\":\"p1007\"},{\"id\":\"p1005\"},{\"id\":\"p1006\"}],\"margin\":0,\"sizing_mode\":\"stretch_width\",\"align\":\"start\"}},{\"type\":\"object\",\"name\":\"Figure\",\"id\":\"p1016\",\"attributes\":{\"width\":700,\"height\":300,\"margin\":[5,10],\"sizing_mode\":\"fixed\",\"align\":\"start\",\"x_range\":{\"type\":\"object\",\"name\":\"Range1d\",\"id\":\"p1009\",\"attributes\":{\"tags\":[[[\"x\",\"x\",null]],[]],\"start\":0.8285714285714285,\"end\":5.171428571428572,\"reset_start\":0.8285714285714285,\"reset_end\":5.171428571428572}},\"y_range\":{\"type\":\"object\",\"name\":\"Range1d\",\"id\":\"p1010\",\"attributes\":{\"tags\":[[[\"y\",\"y\",null]],{\"type\":\"map\",\"entries\":[[\"invert_yaxis\",false],[\"autorange\",false]]}],\"start\":0.6,\"end\":5.4,\"reset_start\":0.6,\"reset_end\":5.4}},\"x_scale\":{\"type\":\"object\",\"name\":\"LinearScale\",\"id\":\"p1026\"},\"y_scale\":{\"type\":\"object\",\"name\":\"LinearScale\",\"id\":\"p1027\"},\"title\":{\"type\":\"object\",\"name\":\"Title\",\"id\":\"p1019\",\"attributes\":{\"text_color\":\"black\",\"text_font_size\":\"12pt\"}},\"renderers\":[{\"type\":\"object\",\"name\":\"GlyphRenderer\",\"id\":\"p1056\",\"attributes\":{\"data_source\":{\"type\":\"object\",\"name\":\"ColumnDataSource\",\"id\":\"p1047\",\"attributes\":{\"selected\":{\"type\":\"object\",\"name\":\"Selection\",\"id\":\"p1048\",\"attributes\":{\"indices\":[],\"line_indices\":[]}},\"selection_policy\":{\"type\":\"object\",\"name\":\"UnionRenderers\",\"id\":\"p1049\"},\"data\":{\"type\":\"map\",\"entries\":[[\"x\",{\"type\":\"ndarray\",\"array\":{\"type\":\"bytes\",\"data\":\"AQAAAAIAAAADAAAABAAAAAUAAAA=\"},\"shape\":[5],\"dtype\":\"int32\",\"order\":\"little\"}],[\"y\",{\"type\":\"ndarray\",\"array\":{\"type\":\"bytes\",\"data\":\"BQAAAAQAAAADAAAAAgAAAAEAAAA=\"},\"shape\":[5],\"dtype\":\"int32\",\"order\":\"little\"}]]}}},\"view\":{\"type\":\"object\",\"name\":\"CDSView\",\"id\":\"p1057\",\"attributes\":{\"filter\":{\"type\":\"object\",\"name\":\"AllIndices\",\"id\":\"p1058\"}}},\"glyph\":{\"type\":\"object\",\"name\":\"Scatter\",\"id\":\"p1053\",\"attributes\":{\"tags\":[\"apply_ranges\"],\"x\":{\"type\":\"field\",\"field\":\"x\"},\"y\":{\"type\":\"field\",\"field\":\"y\"},\"size\":{\"type\":\"value\",\"value\":5.477225575051661},\"line_color\":{\"type\":\"value\",\"value\":\"#30a2da\"},\"fill_color\":{\"type\":\"value\",\"value\":\"#30a2da\"},\"hatch_color\":{\"type\":\"value\",\"value\":\"#30a2da\"}}},\"selection_glyph\":{\"type\":\"object\",\"name\":\"Scatter\",\"id\":\"p1059\",\"attributes\":{\"tags\":[\"apply_ranges\"],\"x\":{\"type\":\"field\",\"field\":\"x\"},\"y\":{\"type\":\"field\",\"field\":\"y\"},\"size\":{\"type\":\"value\",\"value\":5.477225575051661},\"angle\":{\"type\":\"value\",\"value\":0.0},\"line_color\":{\"type\":\"value\",\"value\":\"#30a2da\"},\"line_alpha\":{\"type\":\"value\",\"value\":1.0},\"line_width\":{\"type\":\"value\",\"value\":1},\"line_join\":{\"type\":\"value\",\"value\":\"bevel\"},\"line_cap\":{\"type\":\"value\",\"value\":\"butt\"},\"line_dash\":{\"type\":\"value\",\"value\":[]},\"line_dash_offset\":{\"type\":\"value\",\"value\":0},\"fill_color\":{\"type\":\"value\",\"value\":\"#30a2da\"},\"fill_alpha\":{\"type\":\"value\",\"value\":1.0},\"hatch_color\":{\"type\":\"value\",\"value\":\"#30a2da\"},\"hatch_alpha\":{\"type\":\"value\",\"value\":1.0},\"hatch_scale\":{\"type\":\"value\",\"value\":12.0},\"hatch_pattern\":{\"type\":\"value\",\"value\":null},\"hatch_weight\":{\"type\":\"value\",\"value\":1.0},\"marker\":{\"type\":\"value\",\"value\":\"circle\"}}},\"nonselection_glyph\":{\"type\":\"object\",\"name\":\"Scatter\",\"id\":\"p1054\",\"attributes\":{\"tags\":[\"apply_ranges\"],\"x\":{\"type\":\"field\",\"field\":\"x\"},\"y\":{\"type\":\"field\",\"field\":\"y\"},\"size\":{\"type\":\"value\",\"value\":5.477225575051661},\"line_color\":{\"type\":\"value\",\"value\":\"#30a2da\"},\"line_alpha\":{\"type\":\"value\",\"value\":0.1},\"fill_color\":{\"type\":\"value\",\"value\":\"#30a2da\"},\"fill_alpha\":{\"type\":\"value\",\"value\":0.1},\"hatch_color\":{\"type\":\"value\",\"value\":\"#30a2da\"},\"hatch_alpha\":{\"type\":\"value\",\"value\":0.1}}},\"muted_glyph\":{\"type\":\"object\",\"name\":\"Scatter\",\"id\":\"p1055\",\"attributes\":{\"tags\":[\"apply_ranges\"],\"x\":{\"type\":\"field\",\"field\":\"x\"},\"y\":{\"type\":\"field\",\"field\":\"y\"},\"size\":{\"type\":\"value\",\"value\":5.477225575051661},\"line_color\":{\"type\":\"value\",\"value\":\"#30a2da\"},\"line_alpha\":{\"type\":\"value\",\"value\":0.2},\"fill_color\":{\"type\":\"value\",\"value\":\"#30a2da\"},\"fill_alpha\":{\"type\":\"value\",\"value\":0.2},\"hatch_color\":{\"type\":\"value\",\"value\":\"#30a2da\"},\"hatch_alpha\":{\"type\":\"value\",\"value\":0.2}}}}}],\"toolbar\":{\"type\":\"object\",\"name\":\"Toolbar\",\"id\":\"p1025\",\"attributes\":{\"tools\":[{\"type\":\"object\",\"name\":\"WheelZoomTool\",\"id\":\"p1014\",\"attributes\":{\"tags\":[\"hv_created\"],\"renderers\":\"auto\",\"zoom_together\":\"none\"}},{\"type\":\"object\",\"name\":\"HoverTool\",\"id\":\"p1015\",\"attributes\":{\"tags\":[\"hv_created\"],\"renderers\":[{\"id\":\"p1056\"}],\"tooltips\":[[\"x\",\"@{x}\"],[\"y\",\"@{y}\"]]}},{\"type\":\"object\",\"name\":\"SaveTool\",\"id\":\"p1038\"},{\"type\":\"object\",\"name\":\"PanTool\",\"id\":\"p1039\"},{\"type\":\"object\",\"name\":\"BoxZoomTool\",\"id\":\"p1040\",\"attributes\":{\"overlay\":{\"type\":\"object\",\"name\":\"BoxAnnotation\",\"id\":\"p1041\",\"attributes\":{\"syncable\":false,\"level\":\"overlay\",\"visible\":false,\"left\":{\"type\":\"number\",\"value\":\"nan\"},\"right\":{\"type\":\"number\",\"value\":\"nan\"},\"top\":{\"type\":\"number\",\"value\":\"nan\"},\"bottom\":{\"type\":\"number\",\"value\":\"nan\"},\"left_units\":\"canvas\",\"right_units\":\"canvas\",\"top_units\":\"canvas\",\"bottom_units\":\"canvas\",\"line_color\":\"black\",\"line_alpha\":1.0,\"line_width\":2,\"line_dash\":[4,4],\"fill_color\":\"lightgrey\",\"fill_alpha\":0.5}}}},{\"type\":\"object\",\"name\":\"ResetTool\",\"id\":\"p1046\"}],\"active_drag\":{\"id\":\"p1039\"},\"active_scroll\":{\"id\":\"p1014\"}}},\"left\":[{\"type\":\"object\",\"name\":\"LinearAxis\",\"id\":\"p1033\",\"attributes\":{\"ticker\":{\"type\":\"object\",\"name\":\"BasicTicker\",\"id\":\"p1034\",\"attributes\":{\"mantissas\":[1,2,5]}},\"formatter\":{\"type\":\"object\",\"name\":\"BasicTickFormatter\",\"id\":\"p1035\"},\"axis_label\":\"y\",\"major_label_policy\":{\"type\":\"object\",\"name\":\"AllLabels\",\"id\":\"p1036\"}}}],\"below\":[{\"type\":\"object\",\"name\":\"LinearAxis\",\"id\":\"p1028\",\"attributes\":{\"ticker\":{\"type\":\"object\",\"name\":\"BasicTicker\",\"id\":\"p1029\",\"attributes\":{\"mantissas\":[1,2,5]}},\"formatter\":{\"type\":\"object\",\"name\":\"BasicTickFormatter\",\"id\":\"p1030\"},\"axis_label\":\"x\",\"major_label_policy\":{\"type\":\"object\",\"name\":\"AllLabels\",\"id\":\"p1031\"}}}],\"center\":[{\"type\":\"object\",\"name\":\"Grid\",\"id\":\"p1032\",\"attributes\":{\"axis\":{\"id\":\"p1028\"},\"grid_line_color\":null}},{\"type\":\"object\",\"name\":\"Grid\",\"id\":\"p1037\",\"attributes\":{\"dimension\":1,\"axis\":{\"id\":\"p1033\"},\"grid_line_color\":null}}],\"min_border_top\":10,\"min_border_bottom\":10,\"min_border_left\":10,\"min_border_right\":10,\"output_backend\":\"webgl\"}},{\"type\":\"object\",\"name\":\"Spacer\",\"id\":\"p1061\",\"attributes\":{\"name\":\"HSpacer01025\",\"stylesheets\":[\"\\n:host(.pn-loading):before, .pn-loading:before {\\n  background-color: #c3c3c3;\\n  mask-size: auto calc(min(50%, 400px));\\n  -webkit-mask-size: auto calc(min(50%, 400px));\\n}\",{\"id\":\"p1007\"},{\"id\":\"p1005\"},{\"id\":\"p1006\"}],\"margin\":0,\"sizing_mode\":\"stretch_width\",\"align\":\"start\"}}]}}],\"defs\":[{\"type\":\"model\",\"name\":\"ReactiveHTML1\"},{\"type\":\"model\",\"name\":\"FlexBox1\",\"properties\":[{\"name\":\"align_content\",\"kind\":\"Any\",\"default\":\"flex-start\"},{\"name\":\"align_items\",\"kind\":\"Any\",\"default\":\"flex-start\"},{\"name\":\"flex_direction\",\"kind\":\"Any\",\"default\":\"row\"},{\"name\":\"flex_wrap\",\"kind\":\"Any\",\"default\":\"wrap\"},{\"name\":\"gap\",\"kind\":\"Any\",\"default\":\"\"},{\"name\":\"justify_content\",\"kind\":\"Any\",\"default\":\"flex-start\"}]},{\"type\":\"model\",\"name\":\"FloatPanel1\",\"properties\":[{\"name\":\"config\",\"kind\":\"Any\",\"default\":{\"type\":\"map\"}},{\"name\":\"contained\",\"kind\":\"Any\",\"default\":true},{\"name\":\"position\",\"kind\":\"Any\",\"default\":\"right-top\"},{\"name\":\"offsetx\",\"kind\":\"Any\",\"default\":null},{\"name\":\"offsety\",\"kind\":\"Any\",\"default\":null},{\"name\":\"theme\",\"kind\":\"Any\",\"default\":\"primary\"},{\"name\":\"status\",\"kind\":\"Any\",\"default\":\"normalized\"}]},{\"type\":\"model\",\"name\":\"GridStack1\",\"properties\":[{\"name\":\"mode\",\"kind\":\"Any\",\"default\":\"warn\"},{\"name\":\"ncols\",\"kind\":\"Any\",\"default\":null},{\"name\":\"nrows\",\"kind\":\"Any\",\"default\":null},{\"name\":\"allow_resize\",\"kind\":\"Any\",\"default\":true},{\"name\":\"allow_drag\",\"kind\":\"Any\",\"default\":true},{\"name\":\"state\",\"kind\":\"Any\",\"default\":[]}]},{\"type\":\"model\",\"name\":\"drag1\",\"properties\":[{\"name\":\"slider_width\",\"kind\":\"Any\",\"default\":5},{\"name\":\"slider_color\",\"kind\":\"Any\",\"default\":\"black\"},{\"name\":\"value\",\"kind\":\"Any\",\"default\":50}]},{\"type\":\"model\",\"name\":\"click1\",\"properties\":[{\"name\":\"terminal_output\",\"kind\":\"Any\",\"default\":\"\"},{\"name\":\"debug_name\",\"kind\":\"Any\",\"default\":\"\"},{\"name\":\"clears\",\"kind\":\"Any\",\"default\":0}]},{\"type\":\"model\",\"name\":\"FastWrapper1\",\"properties\":[{\"name\":\"object\",\"kind\":\"Any\",\"default\":null},{\"name\":\"style\",\"kind\":\"Any\",\"default\":null}]},{\"type\":\"model\",\"name\":\"NotificationAreaBase1\",\"properties\":[{\"name\":\"js_events\",\"kind\":\"Any\",\"default\":{\"type\":\"map\"}},{\"name\":\"position\",\"kind\":\"Any\",\"default\":\"bottom-right\"},{\"name\":\"_clear\",\"kind\":\"Any\",\"default\":0}]},{\"type\":\"model\",\"name\":\"NotificationArea1\",\"properties\":[{\"name\":\"js_events\",\"kind\":\"Any\",\"default\":{\"type\":\"map\"}},{\"name\":\"notifications\",\"kind\":\"Any\",\"default\":[]},{\"name\":\"position\",\"kind\":\"Any\",\"default\":\"bottom-right\"},{\"name\":\"_clear\",\"kind\":\"Any\",\"default\":0},{\"name\":\"types\",\"kind\":\"Any\",\"default\":[{\"type\":\"map\",\"entries\":[[\"type\",\"warning\"],[\"background\",\"#ffc107\"],[\"icon\",{\"type\":\"map\",\"entries\":[[\"className\",\"fas fa-exclamation-triangle\"],[\"tagName\",\"i\"],[\"color\",\"white\"]]}]]},{\"type\":\"map\",\"entries\":[[\"type\",\"info\"],[\"background\",\"#007bff\"],[\"icon\",{\"type\":\"map\",\"entries\":[[\"className\",\"fas fa-info-circle\"],[\"tagName\",\"i\"],[\"color\",\"white\"]]}]]}]}]},{\"type\":\"model\",\"name\":\"Notification\",\"properties\":[{\"name\":\"background\",\"kind\":\"Any\",\"default\":null},{\"name\":\"duration\",\"kind\":\"Any\",\"default\":3000},{\"name\":\"icon\",\"kind\":\"Any\",\"default\":null},{\"name\":\"message\",\"kind\":\"Any\",\"default\":\"\"},{\"name\":\"notification_type\",\"kind\":\"Any\",\"default\":null},{\"name\":\"_destroyed\",\"kind\":\"Any\",\"default\":false}]},{\"type\":\"model\",\"name\":\"TemplateActions1\",\"properties\":[{\"name\":\"open_modal\",\"kind\":\"Any\",\"default\":0},{\"name\":\"close_modal\",\"kind\":\"Any\",\"default\":0}]},{\"type\":\"model\",\"name\":\"BootstrapTemplateActions1\",\"properties\":[{\"name\":\"open_modal\",\"kind\":\"Any\",\"default\":0},{\"name\":\"close_modal\",\"kind\":\"Any\",\"default\":0}]},{\"type\":\"model\",\"name\":\"TemplateEditor1\",\"properties\":[{\"name\":\"layout\",\"kind\":\"Any\",\"default\":[]}]},{\"type\":\"model\",\"name\":\"MaterialTemplateActions1\",\"properties\":[{\"name\":\"open_modal\",\"kind\":\"Any\",\"default\":0},{\"name\":\"close_modal\",\"kind\":\"Any\",\"default\":0}]},{\"type\":\"model\",\"name\":\"copy_to_clipboard1\",\"properties\":[{\"name\":\"fill\",\"kind\":\"Any\",\"default\":\"none\"},{\"name\":\"value\",\"kind\":\"Any\",\"default\":null}]}]}};\n",
       "  var render_items = [{\"docid\":\"1d176ea1-4512-48e3-8775-e513e3fcb22f\",\"roots\":{\"p1004\":\"e55b4a8b-1bfd-45f5-9eda-8e238fe1aeae\"},\"root_ids\":[\"p1004\"]}];\n",
       "  var docs = Object.values(docs_json)\n",
       "  if (!docs) {\n",
       "    return\n",
       "  }\n",
       "  const py_version = docs[0].version.replace('rc', '-rc.').replace('.dev', '-dev.')\n",
       "  function embed_document(root) {\n",
       "    var Bokeh = get_bokeh(root)\n",
       "    Bokeh.embed.embed_items_notebook(docs_json, render_items);\n",
       "    for (const render_item of render_items) {\n",
       "      for (const root_id of render_item.root_ids) {\n",
       "\tconst id_el = document.getElementById(root_id)\n",
       "\tif (id_el.children.length && (id_el.children[0].className === 'bk-root')) {\n",
       "\t  const root_el = id_el.children[0]\n",
       "\t  root_el.id = root_el.id + '-rendered'\n",
       "\t}\n",
       "      }\n",
       "    }\n",
       "  }\n",
       "  function get_bokeh(root) {\n",
       "    if (root.Bokeh === undefined) {\n",
       "      return null\n",
       "    } else if (root.Bokeh.version !== py_version) {\n",
       "      if (root.Bokeh.versions === undefined || !root.Bokeh.versions.has(py_version)) {\n",
       "\treturn null\n",
       "      }\n",
       "      return root.Bokeh.versions.get(py_version);\n",
       "    } else if (root.Bokeh.version === py_version) {\n",
       "      return root.Bokeh\n",
       "    }\n",
       "    return null\n",
       "  }\n",
       "  function is_loaded(root) {\n",
       "    var Bokeh = get_bokeh(root)\n",
       "    return (Bokeh != null && Bokeh.Panel !== undefined)\n",
       "  }\n",
       "  if (is_loaded(root)) {\n",
       "    embed_document(root);\n",
       "  } else {\n",
       "    var attempts = 0;\n",
       "    var timer = setInterval(function(root) {\n",
       "      if (is_loaded(root)) {\n",
       "        clearInterval(timer);\n",
       "        embed_document(root);\n",
       "      } else if (document.readyState == \"complete\") {\n",
       "        attempts++;\n",
       "        if (attempts > 200) {\n",
       "          clearInterval(timer);\n",
       "\t  var Bokeh = get_bokeh(root)\n",
       "\t  if (Bokeh == null || Bokeh.Panel == null) {\n",
       "            console.warn(\"Panel: ERROR: Unable to run Panel code because Bokeh or Panel library is missing\");\n",
       "\t  } else {\n",
       "\t    console.warn(\"Panel: WARNING: Attempting to render but not all required libraries could be resolved.\")\n",
       "\t    embed_document(root)\n",
       "\t  }\n",
       "        }\n",
       "      }\n",
       "    }, 25, root)\n",
       "  }\n",
       "})(window);</script>"
      ],
      "text/plain": [
       ":Scatter   [x]   (y)"
      ]
     },
     "execution_count": 2,
     "metadata": {
      "application/vnd.holoviews_exec.v0+json": {
       "id": "p1004"
      }
     },
     "output_type": "execute_result"
    }
   ],
   "source": [
    "import polars as pl\n",
    "\n",
    "# Example DataFrame\n",
    "data = {'x': [1, 2, 3, 4, 5], 'y': [5, 4, 3, 2, 1]}\n",
    "df = pl.DataFrame(data)\n",
    "\n",
    "# Plot DataFrame using Polars' native plotting capabilities\n",
    "df.plot(x='x', y='y', kind='scatter')"
   ]
  },
  {
   "cell_type": "code",
   "execution_count": null,
   "metadata": {},
   "outputs": [],
   "source": []
  }
 ],
 "metadata": {
  "kernelspec": {
   "display_name": "learn-polars-7MtpilGJ-py3.11",
   "language": "python",
   "name": "python3"
  },
  "language_info": {
   "codemirror_mode": {
    "name": "ipython",
    "version": 3
   },
   "file_extension": ".py",
   "mimetype": "text/x-python",
   "name": "python",
   "nbconvert_exporter": "python",
   "pygments_lexer": "ipython3",
   "version": "3.11.6"
  }
 },
 "nbformat": 4,
 "nbformat_minor": 2
}
